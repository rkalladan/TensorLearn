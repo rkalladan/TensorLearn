{
  "nbformat": 4,
  "nbformat_minor": 0,
  "metadata": {
    "colab": {
      "provenance": [],
      "gpuType": "T4",
      "authorship_tag": "ABX9TyOuzHIyyELRSnplNLZX9xYt",
      "include_colab_link": true
    },
    "kernelspec": {
      "name": "python3",
      "display_name": "Python 3"
    },
    "language_info": {
      "name": "python"
    },
    "accelerator": "GPU"
  },
  "cells": [
    {
      "cell_type": "markdown",
      "metadata": {
        "id": "view-in-github",
        "colab_type": "text"
      },
      "source": [
        "<a href=\"https://colab.research.google.com/github/rkalladan/TensorLearn/blob/master/PytorchLearn_1.ipynb\" target=\"_parent\"><img src=\"https://colab.research.google.com/assets/colab-badge.svg\" alt=\"Open In Colab\"/></a>"
      ]
    },
    {
      "cell_type": "markdown",
      "source": [
        "Creating Tensor CPU Example"
      ],
      "metadata": {
        "id": "qJ3zgHRKjMq6"
      }
    },
    {
      "cell_type": "code",
      "execution_count": 4,
      "metadata": {
        "colab": {
          "base_uri": "https://localhost:8080/"
        },
        "id": "XW48WoE0hp96",
        "outputId": "deb1f610-18e2-404e-8aa5-c2affe255925"
      },
      "outputs": [
        {
          "output_type": "stream",
          "name": "stdout",
          "text": [
            "tensor([[13, 12, 14, 13],\n",
            "        [18, 21, 21, 24]])\n"
          ]
        }
      ],
      "source": [
        "import torch\n",
        "\n",
        "first_tens = torch.tensor([[12,10,11,9],[13,15,14,16]])\n",
        "sec_tens = torch.tensor([[1,2,3,4],[5,6,7,8]])\n",
        "\n",
        "add_tens = first_tens + sec_tens\n",
        "print(add_tens)"
      ]
    },
    {
      "cell_type": "code",
      "source": [
        "sub_tens = first_tens - sec_tens\n",
        "print(sub_tens)\n",
        "print(sub_tens.size())"
      ],
      "metadata": {
        "colab": {
          "base_uri": "https://localhost:8080/"
        },
        "id": "rsyEP8Y7j0HV",
        "outputId": "60b17de2-f297-446b-9393-d3a8144eec95"
      },
      "execution_count": 7,
      "outputs": [
        {
          "output_type": "stream",
          "name": "stdout",
          "text": [
            "tensor([[11,  8,  8,  5],\n",
            "        [ 8,  9,  7,  8]])\n",
            "torch.Size([2, 4])\n"
          ]
        }
      ]
    },
    {
      "cell_type": "markdown",
      "source": [
        "Creating GPU Example"
      ],
      "metadata": {
        "id": "hFqcOWfql7S-"
      }
    },
    {
      "cell_type": "code",
      "source": [
        "import torch\n",
        "print(torch.__version__)"
      ],
      "metadata": {
        "colab": {
          "base_uri": "https://localhost:8080/"
        },
        "id": "FvjZ5vzSlp6T",
        "outputId": "f46c01aa-a107-42e8-e0c7-5ce2c5c256c2"
      },
      "execution_count": 2,
      "outputs": [
        {
          "output_type": "stream",
          "name": "stdout",
          "text": [
            "2.3.0+cu121\n"
          ]
        }
      ]
    },
    {
      "cell_type": "code",
      "source": [
        "if torch.cuda.is_available() : device =\"cuda\"\n",
        "else : device = \"cpu\"\n",
        "print(device)"
      ],
      "metadata": {
        "colab": {
          "base_uri": "https://localhost:8080/"
        },
        "id": "v9C6Rq_ymf_Z",
        "outputId": "57760b32-8ec3-43c9-e851-c3ac1d8c758b"
      },
      "execution_count": 3,
      "outputs": [
        {
          "output_type": "stream",
          "name": "stdout",
          "text": [
            "cuda\n"
          ]
        }
      ]
    },
    {
      "cell_type": "code",
      "source": [
        "tens_a = torch.tensor([[12,10,11,9],[13,15,14,16]], device=device)\n",
        "tens_b = torch.tensor([[1,2,3,4],[5,6,7,8]], device=device)\n",
        "tens_multi = tens_a * tens_b\n",
        "print(tens_multi) # We can see that which device it is executed(cuda:0)\n",
        "print(torch.dtype.itemsize)"
      ],
      "metadata": {
        "colab": {
          "base_uri": "https://localhost:8080/"
        },
        "id": "EWRBL5minECe",
        "outputId": "0b452601-cab6-4ec2-f4fb-b004863bcc47"
      },
      "execution_count": 10,
      "outputs": [
        {
          "output_type": "stream",
          "name": "stdout",
          "text": [
            "tensor([[ 12,  20,  33,  36],\n",
            "        [ 65,  90,  98, 128]], device='cuda:0')\n",
            "<attribute 'itemsize' of 'torch.dtype' objects>\n"
          ]
        }
      ]
    },
    {
      "cell_type": "markdown",
      "source": [
        "Moving data between CPU & GPU"
      ],
      "metadata": {
        "id": "8sUBOVQDoVA-"
      }
    },
    {
      "cell_type": "code",
      "source": [
        "import torch\n",
        "\n",
        "# create a tensor\n",
        "x = torch.tensor([5,10,15,10,25])\n",
        "print(\"Tensor:\", x)\n",
        "# check tensor device (cpu/cuda)\n",
        "print(\"Tensor device:\", x.device)"
      ],
      "metadata": {
        "colab": {
          "base_uri": "https://localhost:8080/"
        },
        "id": "dGvaQW7inZ81",
        "outputId": "d17e2c8a-aec7-4316-ac44-172acd2b289f"
      },
      "execution_count": 1,
      "outputs": [
        {
          "output_type": "stream",
          "name": "stdout",
          "text": [
            "Tensor: tensor([ 5, 10, 15, 10, 25])\n",
            "Tensor device: cpu\n"
          ]
        }
      ]
    },
    {
      "cell_type": "code",
      "source": [
        "print(\"CUDA GPU:\", torch.cuda.is_available())\n",
        "if torch.cuda.is_available():\n",
        "   x = x.to(\"cuda:0\")\n",
        "   # or x=x.to(\"cuda\")\n",
        "print(x)\n",
        "\n",
        "# now check the tensor device\n",
        "print(\"Tensor device:\", x.device)"
      ],
      "metadata": {
        "colab": {
          "base_uri": "https://localhost:8080/"
        },
        "id": "F171OcRsrvZK",
        "outputId": "3d43a279-ee1d-4866-907a-e44e73a5263d"
      },
      "execution_count": 3,
      "outputs": [
        {
          "output_type": "stream",
          "name": "stdout",
          "text": [
            "CUDA GPU: True\n",
            "tensor([ 5, 10, 15, 10, 25], device='cuda:0')\n",
            "Tensor device: cuda:0\n"
          ]
        }
      ]
    },
    {
      "cell_type": "markdown",
      "source": [
        "Different ways to create tensors"
      ],
      "metadata": {
        "id": "rYBk4C05sRvw"
      }
    },
    {
      "cell_type": "code",
      "source": [
        "import torch\n",
        "import numpy as np"
      ],
      "metadata": {
        "id": "DrmDKSwmsE82"
      },
      "execution_count": 4,
      "outputs": []
    },
    {
      "cell_type": "code",
      "source": [
        "# initialize a tensor from a Python list\n",
        "tensor_from_list=torch.tensor([1,2,3,4,5])\n",
        "# initialize a tensor from a tuple\n",
        "tensor_from_tuple=torch.tensor((6,7,8,9,10))\n",
        "print(\"Tensor from list:\",tensor_from_list)\n",
        "print(\"Tensor from tuple:\",tensor_from_tuple)"
      ],
      "metadata": {
        "colab": {
          "base_uri": "https://localhost:8080/"
        },
        "id": "Q4KnM75KsW_H",
        "outputId": "41afc946-7d22-453b-84d4-c4f379495c3d"
      },
      "execution_count": 5,
      "outputs": [
        {
          "output_type": "stream",
          "name": "stdout",
          "text": [
            "Tensor from list: tensor([1, 2, 3, 4, 5])\n",
            "Tensor from tuple: tensor([ 6,  7,  8,  9, 10])\n"
          ]
        }
      ]
    },
    {
      "cell_type": "code",
      "source": [
        "# initialize a tensor from a ndarray\n",
        "tensor_from_array=torch.tensor(np.array([11,12,13,14,15]))\n",
        "print(\"Tensor from array:\",tensor_from_array)"
      ],
      "metadata": {
        "colab": {
          "base_uri": "https://localhost:8080/"
        },
        "id": "DKK1U6iOsbi3",
        "outputId": "07eb736a-d0ed-4cef-9010-c50fdb08f461"
      },
      "execution_count": 6,
      "outputs": [
        {
          "output_type": "stream",
          "name": "stdout",
          "text": [
            "Tensor from array: tensor([11, 12, 13, 14, 15])\n"
          ]
        }
      ]
    },
    {
      "cell_type": "markdown",
      "source": [
        "Different functions for creating tensors:\n",
        "\n",
        "torch.empty(), torch.ones(), and torch.zeros()"
      ],
      "metadata": {
        "id": "johTTLXKs5Ls"
      }
    },
    {
      "cell_type": "code",
      "source": [
        "tensor_emp = torch.empty(3,4)\n",
        "print(\"tensor_emp :\",tensor_emp)\n",
        "tensor_zeros = torch.zeros(3,4)\n",
        "print(\"tensor_zeros :\",tensor_zeros)\n",
        "tensor_ones= torch.ones(3,4)\n",
        "print(\"tensor_ones :\",tensor_ones)"
      ],
      "metadata": {
        "colab": {
          "base_uri": "https://localhost:8080/"
        },
        "id": "oKWFbmS_sici",
        "outputId": "e60b7ebd-ff73-44e7-f8d5-de3002284c84"
      },
      "execution_count": 7,
      "outputs": [
        {
          "output_type": "stream",
          "name": "stdout",
          "text": [
            "tensor_emp : tensor([[8.1919e-10, 1.0081e-08, 2.1666e-04, 3.2905e+21],\n",
            "        [2.4828e-18, 3.1360e+27, 7.0800e+31, 3.1095e-18],\n",
            "        [1.2250e+25, 7.0969e+22, 4.4260e+30, 7.2442e+22]])\n",
            "tensor_zeros : tensor([[0., 0., 0., 0.],\n",
            "        [0., 0., 0., 0.],\n",
            "        [0., 0., 0., 0.]])\n",
            "tensor_ones : tensor([[1., 1., 1., 1.],\n",
            "        [1., 1., 1., 1.],\n",
            "        [1., 1., 1., 1.]])\n"
          ]
        }
      ]
    },
    {
      "cell_type": "code",
      "source": [
        "# tensors initialized by size with random values\n",
        "# returns a tensor filled with random numbers from a uniform distribution\n",
        "tensor_rand_un = torch.rand(4,5)\n",
        "print(\"tensor_rand_un :\",tensor_rand_un)\n",
        "# returns a tensor filled with random numbers from a normal distribution\n",
        "tensor_rand_norm = torch.randn(4,5)\n",
        "print(\"tensor_rand_norm :\",tensor_rand_norm)\n",
        "# returns a tensor filled with random integers generated uniformly\n",
        "tensor_rand_int = torch.randint(5,10,(4,5))\n",
        "print(\"tensor_rand_int :\",tensor_rand_int)"
      ],
      "metadata": {
        "colab": {
          "base_uri": "https://localhost:8080/"
        },
        "id": "SQgO73ZKtYtW",
        "outputId": "b2ac547b-d7d3-4c22-fdb4-3507d9738230"
      },
      "execution_count": 8,
      "outputs": [
        {
          "output_type": "stream",
          "name": "stdout",
          "text": [
            "tensor_rand_un : tensor([[0.5431, 0.3528, 0.2543, 0.7197, 0.6238],\n",
            "        [0.8078, 0.2623, 0.2395, 0.8070, 0.3050],\n",
            "        [0.4452, 0.8011, 0.1017, 0.1262, 0.0786],\n",
            "        [0.6523, 0.1392, 0.1979, 0.3262, 0.4062]])\n",
            "tensor_rand_norm : tensor([[-1.6015, -1.6611, -1.0017,  0.1179,  0.1585],\n",
            "        [ 1.2788, -0.1559, -0.2752, -0.5508,  0.1388],\n",
            "        [ 0.2057, -1.3987,  0.6037,  0.3495,  1.6670],\n",
            "        [-0.6494,  0.3001,  1.4704, -0.9788, -0.0127]])\n",
            "tensor_rand_int : tensor([[7, 7, 8, 5, 9],\n",
            "        [7, 7, 7, 9, 6],\n",
            "        [9, 8, 7, 6, 8],\n",
            "        [8, 5, 9, 7, 5]])\n"
          ]
        }
      ]
    },
    {
      "cell_type": "code",
      "source": [
        "# initialize a tensor of ones\n",
        "tensor_ones = torch.ones_like(tensor_rand_int)\n",
        "print(tensor_ones)"
      ],
      "metadata": {
        "colab": {
          "base_uri": "https://localhost:8080/"
        },
        "id": "xIIPowCctspU",
        "outputId": "00e708f4-fa15-428b-db69-9bc555a49910"
      },
      "execution_count": 9,
      "outputs": [
        {
          "output_type": "stream",
          "name": "stdout",
          "text": [
            "tensor([[1, 1, 1, 1, 1],\n",
            "        [1, 1, 1, 1, 1],\n",
            "        [1, 1, 1, 1, 1],\n",
            "        [1, 1, 1, 1, 1]])\n"
          ]
        }
      ]
    },
    {
      "cell_type": "markdown",
      "source": [
        "**Tensor attributes**\n",
        "\n",
        "knowing device location, datatype, dimension, and rank is very important"
      ],
      "metadata": {
        "id": "7lD2KzILvHn5"
      }
    },
    {
      "cell_type": "code",
      "source": [
        "first_tensor = torch.tensor([1,2,3,4,5,6])\n",
        "#torch.device indicates the tensor’s device location\n",
        "\n",
        "print(first_tensor.device)\n",
        "first_tensor.device\n"
      ],
      "metadata": {
        "colab": {
          "base_uri": "https://localhost:8080/"
        },
        "id": "U8VkEZ19t_hA",
        "outputId": "7762286b-fef9-4556-8454-25aa2ab09e27"
      },
      "execution_count": 15,
      "outputs": [
        {
          "output_type": "stream",
          "name": "stdout",
          "text": [
            "cpu\n"
          ]
        },
        {
          "output_type": "execute_result",
          "data": {
            "text/plain": [
              "device(type='cpu')"
            ]
          },
          "metadata": {},
          "execution_count": 15
        }
      ]
    },
    {
      "cell_type": "code",
      "source": [
        "#torch.dtype indicates the tensor’s data type\n",
        "first_tensor.dtype"
      ],
      "metadata": {
        "colab": {
          "base_uri": "https://localhost:8080/"
        },
        "id": "nwI7kwlDvdSZ",
        "outputId": "dd41bc9f-d329-47ef-c3de-fceca92d2d32"
      },
      "execution_count": 14,
      "outputs": [
        {
          "output_type": "execute_result",
          "data": {
            "text/plain": [
              "torch.int64"
            ]
          },
          "metadata": {},
          "execution_count": 14
        }
      ]
    },
    {
      "cell_type": "code",
      "source": [
        "#torch.shape shows the tensor’s dimensions\n",
        "first_tensor.shape"
      ],
      "metadata": {
        "colab": {
          "base_uri": "https://localhost:8080/"
        },
        "id": "zpg0zgQ6v7DO",
        "outputId": "927d185c-8f20-4f70-df68-a4b9cc123cb3"
      },
      "execution_count": 16,
      "outputs": [
        {
          "output_type": "execute_result",
          "data": {
            "text/plain": [
              "torch.Size([6])"
            ]
          },
          "metadata": {},
          "execution_count": 16
        }
      ]
    },
    {
      "cell_type": "code",
      "source": [
        "#torch.ndim identifies the number of a tensor’s dimensions or rank\n",
        "first_tensor.ndim"
      ],
      "metadata": {
        "colab": {
          "base_uri": "https://localhost:8080/"
        },
        "id": "4N624cK3wUgN",
        "outputId": "45bf3e6a-1582-4bdd-a7f1-34d7ee64622e"
      },
      "execution_count": 17,
      "outputs": [
        {
          "output_type": "execute_result",
          "data": {
            "text/plain": [
              "1"
            ]
          },
          "metadata": {},
          "execution_count": 17
        }
      ]
    },
    {
      "cell_type": "code",
      "source": [
        "second_tensor = torch.tensor([[1,2,3],[4,5,6],[7,8,9]])\n",
        "print(second_tensor.ndim)\n",
        "print(second_tensor.shape)\n",
        "print(second_tensor.device)\n",
        "print(second_tensor.size())\n",
        "print(second_tensor.requires_grad)"
      ],
      "metadata": {
        "colab": {
          "base_uri": "https://localhost:8080/"
        },
        "id": "DwJhDPphwdi4",
        "outputId": "4bd74990-8f66-4861-b28a-56ead199ca0e"
      },
      "execution_count": 26,
      "outputs": [
        {
          "output_type": "stream",
          "name": "stdout",
          "text": [
            "2\n",
            "torch.Size([3, 3])\n",
            "cpu\n",
            "torch.Size([3, 3])\n",
            "False\n"
          ]
        }
      ]
    },
    {
      "cell_type": "code",
      "source": [],
      "metadata": {
        "id": "hPwYvhR-whop"
      },
      "execution_count": null,
      "outputs": []
    }
  ]
}