{
  "nbformat": 4,
  "nbformat_minor": 0,
  "metadata": {
    "colab": {
      "provenance": [],
      "gpuType": "T4",
      "authorship_tag": "ABX9TyM2ZawWIkbx1QVlTl1yBNfL",
      "include_colab_link": true
    },
    "kernelspec": {
      "name": "python3",
      "display_name": "Python 3"
    },
    "language_info": {
      "name": "python"
    },
    "accelerator": "GPU"
  },
  "cells": [
    {
      "cell_type": "markdown",
      "metadata": {
        "id": "view-in-github",
        "colab_type": "text"
      },
      "source": [
        "<a href=\"https://colab.research.google.com/github/rkalladan/TensorLearn/blob/master/PytorchLearn_1.ipynb\" target=\"_parent\"><img src=\"https://colab.research.google.com/assets/colab-badge.svg\" alt=\"Open In Colab\"/></a>"
      ]
    },
    {
      "cell_type": "markdown",
      "source": [
        "Creating Tensor CPU Example"
      ],
      "metadata": {
        "id": "qJ3zgHRKjMq6"
      }
    },
    {
      "cell_type": "code",
      "execution_count": 4,
      "metadata": {
        "colab": {
          "base_uri": "https://localhost:8080/"
        },
        "id": "XW48WoE0hp96",
        "outputId": "deb1f610-18e2-404e-8aa5-c2affe255925"
      },
      "outputs": [
        {
          "output_type": "stream",
          "name": "stdout",
          "text": [
            "tensor([[13, 12, 14, 13],\n",
            "        [18, 21, 21, 24]])\n"
          ]
        }
      ],
      "source": [
        "import torch\n",
        "\n",
        "first_tens = torch.tensor([[12,10,11,9],[13,15,14,16]])\n",
        "sec_tens = torch.tensor([[1,2,3,4],[5,6,7,8]])\n",
        "\n",
        "add_tens = first_tens + sec_tens\n",
        "print(add_tens)"
      ]
    },
    {
      "cell_type": "code",
      "source": [
        "sub_tens = first_tens - sec_tens\n",
        "print(sub_tens)\n",
        "print(sub_tens.size())"
      ],
      "metadata": {
        "colab": {
          "base_uri": "https://localhost:8080/"
        },
        "id": "rsyEP8Y7j0HV",
        "outputId": "60b17de2-f297-446b-9393-d3a8144eec95"
      },
      "execution_count": 7,
      "outputs": [
        {
          "output_type": "stream",
          "name": "stdout",
          "text": [
            "tensor([[11,  8,  8,  5],\n",
            "        [ 8,  9,  7,  8]])\n",
            "torch.Size([2, 4])\n"
          ]
        }
      ]
    },
    {
      "cell_type": "markdown",
      "source": [
        "Creating GPU Example"
      ],
      "metadata": {
        "id": "hFqcOWfql7S-"
      }
    },
    {
      "cell_type": "code",
      "source": [
        "import torch\n",
        "print(torch.__version__)"
      ],
      "metadata": {
        "colab": {
          "base_uri": "https://localhost:8080/"
        },
        "id": "FvjZ5vzSlp6T",
        "outputId": "f46c01aa-a107-42e8-e0c7-5ce2c5c256c2"
      },
      "execution_count": 2,
      "outputs": [
        {
          "output_type": "stream",
          "name": "stdout",
          "text": [
            "2.3.0+cu121\n"
          ]
        }
      ]
    },
    {
      "cell_type": "code",
      "source": [
        "if torch.cuda.is_available() : device =\"cuda\"\n",
        "else : device = \"cpu\"\n",
        "print(device)"
      ],
      "metadata": {
        "colab": {
          "base_uri": "https://localhost:8080/"
        },
        "id": "v9C6Rq_ymf_Z",
        "outputId": "57760b32-8ec3-43c9-e851-c3ac1d8c758b"
      },
      "execution_count": 3,
      "outputs": [
        {
          "output_type": "stream",
          "name": "stdout",
          "text": [
            "cuda\n"
          ]
        }
      ]
    },
    {
      "cell_type": "code",
      "source": [
        "tens_a = torch.tensor([[12,10,11,9],[13,15,14,16]], device=device)\n",
        "tens_b = torch.tensor([[1,2,3,4],[5,6,7,8]], device=device)\n",
        "tens_multi = tens_a * tens_b\n",
        "print(tens_multi) # We can see that which device it is executed(cuda:0)\n",
        "print(torch.dtype.itemsize)"
      ],
      "metadata": {
        "colab": {
          "base_uri": "https://localhost:8080/"
        },
        "id": "EWRBL5minECe",
        "outputId": "0b452601-cab6-4ec2-f4fb-b004863bcc47"
      },
      "execution_count": 10,
      "outputs": [
        {
          "output_type": "stream",
          "name": "stdout",
          "text": [
            "tensor([[ 12,  20,  33,  36],\n",
            "        [ 65,  90,  98, 128]], device='cuda:0')\n",
            "<attribute 'itemsize' of 'torch.dtype' objects>\n"
          ]
        }
      ]
    },
    {
      "cell_type": "markdown",
      "source": [
        "Moving data between CPU & GPU"
      ],
      "metadata": {
        "id": "8sUBOVQDoVA-"
      }
    },
    {
      "cell_type": "code",
      "source": [],
      "metadata": {
        "id": "dGvaQW7inZ81"
      },
      "execution_count": null,
      "outputs": []
    }
  ]
}